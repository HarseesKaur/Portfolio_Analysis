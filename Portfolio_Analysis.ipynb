{
 "cells": [
  {
   "cell_type": "markdown",
   "id": "73df79f1",
   "metadata": {},
   "source": [
    "### Portfolio Analysis"
   ]
  },
  {
   "cell_type": "code",
   "execution_count": 1,
   "id": "3d1321ed",
   "metadata": {},
   "outputs": [
    {
     "data": {
      "text/plain": [
       "'Harsees Kaur'"
      ]
     },
     "execution_count": 1,
     "metadata": {},
     "output_type": "execute_result"
    }
   ],
   "source": [
    "def student_name():\n",
    "    my_name=\"Harsees Kaur\"\n",
    "    return(my_name)\n",
    "student_name()"
   ]
  },
  {
   "cell_type": "markdown",
   "id": "e3c1759e",
   "metadata": {},
   "source": [
    "## FUNCTION 1 "
   ]
  },
  {
   "cell_type": "code",
   "execution_count": 2,
   "id": "dff53c50",
   "metadata": {},
   "outputs": [],
   "source": [
    "#importing necessary packages \n",
    "import pandas as pd\n",
    "import numpy as np\n",
    "import matplotlib.pyplot as plt\n",
    "import yfinance as yf"
   ]
  },
  {
   "cell_type": "code",
   "execution_count": 6,
   "id": "e333cec2",
   "metadata": {},
   "outputs": [
    {
     "name": "stdout",
     "output_type": "stream",
     "text": [
      "[*********************100%***********************]  4 of 4 completed\n"
     ]
    },
    {
     "data": {
      "text/html": [
       "<div>\n",
       "<style scoped>\n",
       "    .dataframe tbody tr th:only-of-type {\n",
       "        vertical-align: middle;\n",
       "    }\n",
       "\n",
       "    .dataframe tbody tr th {\n",
       "        vertical-align: top;\n",
       "    }\n",
       "\n",
       "    .dataframe thead tr th {\n",
       "        text-align: left;\n",
       "    }\n",
       "\n",
       "    .dataframe thead tr:last-of-type th {\n",
       "        text-align: right;\n",
       "    }\n",
       "</style>\n",
       "<table border=\"1\" class=\"dataframe\">\n",
       "  <thead>\n",
       "    <tr>\n",
       "      <th></th>\n",
       "      <th colspan=\"4\" halign=\"left\">Adj Close</th>\n",
       "      <th colspan=\"4\" halign=\"left\">Close</th>\n",
       "      <th colspan=\"2\" halign=\"left\">High</th>\n",
       "      <th>...</th>\n",
       "      <th colspan=\"2\" halign=\"left\">Low</th>\n",
       "      <th colspan=\"4\" halign=\"left\">Open</th>\n",
       "      <th colspan=\"4\" halign=\"left\">Volume</th>\n",
       "    </tr>\n",
       "    <tr>\n",
       "      <th></th>\n",
       "      <th>AAPL</th>\n",
       "      <th>GOOG</th>\n",
       "      <th>META</th>\n",
       "      <th>NFLX</th>\n",
       "      <th>AAPL</th>\n",
       "      <th>GOOG</th>\n",
       "      <th>META</th>\n",
       "      <th>NFLX</th>\n",
       "      <th>AAPL</th>\n",
       "      <th>GOOG</th>\n",
       "      <th>...</th>\n",
       "      <th>META</th>\n",
       "      <th>NFLX</th>\n",
       "      <th>AAPL</th>\n",
       "      <th>GOOG</th>\n",
       "      <th>META</th>\n",
       "      <th>NFLX</th>\n",
       "      <th>AAPL</th>\n",
       "      <th>GOOG</th>\n",
       "      <th>META</th>\n",
       "      <th>NFLX</th>\n",
       "    </tr>\n",
       "    <tr>\n",
       "      <th>Date</th>\n",
       "      <th></th>\n",
       "      <th></th>\n",
       "      <th></th>\n",
       "      <th></th>\n",
       "      <th></th>\n",
       "      <th></th>\n",
       "      <th></th>\n",
       "      <th></th>\n",
       "      <th></th>\n",
       "      <th></th>\n",
       "      <th></th>\n",
       "      <th></th>\n",
       "      <th></th>\n",
       "      <th></th>\n",
       "      <th></th>\n",
       "      <th></th>\n",
       "      <th></th>\n",
       "      <th></th>\n",
       "      <th></th>\n",
       "      <th></th>\n",
       "      <th></th>\n",
       "    </tr>\n",
       "  </thead>\n",
       "  <tbody>\n",
       "    <tr>\n",
       "      <th>2020-01-02</th>\n",
       "      <td>73.449394</td>\n",
       "      <td>68.368500</td>\n",
       "      <td>209.779999</td>\n",
       "      <td>329.809998</td>\n",
       "      <td>75.087502</td>\n",
       "      <td>68.368500</td>\n",
       "      <td>209.779999</td>\n",
       "      <td>329.809998</td>\n",
       "      <td>75.150002</td>\n",
       "      <td>68.406998</td>\n",
       "      <td>...</td>\n",
       "      <td>206.270004</td>\n",
       "      <td>324.779999</td>\n",
       "      <td>74.059998</td>\n",
       "      <td>67.077499</td>\n",
       "      <td>206.750000</td>\n",
       "      <td>326.100006</td>\n",
       "      <td>135480400</td>\n",
       "      <td>28132000</td>\n",
       "      <td>12077100</td>\n",
       "      <td>4485800</td>\n",
       "    </tr>\n",
       "    <tr>\n",
       "      <th>2020-01-03</th>\n",
       "      <td>72.735298</td>\n",
       "      <td>68.032997</td>\n",
       "      <td>208.669998</td>\n",
       "      <td>325.899994</td>\n",
       "      <td>74.357498</td>\n",
       "      <td>68.032997</td>\n",
       "      <td>208.669998</td>\n",
       "      <td>325.899994</td>\n",
       "      <td>75.144997</td>\n",
       "      <td>68.625000</td>\n",
       "      <td>...</td>\n",
       "      <td>206.949997</td>\n",
       "      <td>325.529999</td>\n",
       "      <td>74.287498</td>\n",
       "      <td>67.392998</td>\n",
       "      <td>207.210007</td>\n",
       "      <td>326.779999</td>\n",
       "      <td>146322800</td>\n",
       "      <td>23728000</td>\n",
       "      <td>11188400</td>\n",
       "      <td>3806900</td>\n",
       "    </tr>\n",
       "    <tr>\n",
       "      <th>2020-01-06</th>\n",
       "      <td>73.314896</td>\n",
       "      <td>69.710503</td>\n",
       "      <td>212.600006</td>\n",
       "      <td>335.829987</td>\n",
       "      <td>74.949997</td>\n",
       "      <td>69.710503</td>\n",
       "      <td>212.600006</td>\n",
       "      <td>335.829987</td>\n",
       "      <td>74.989998</td>\n",
       "      <td>69.824997</td>\n",
       "      <td>...</td>\n",
       "      <td>206.520004</td>\n",
       "      <td>321.200012</td>\n",
       "      <td>73.447502</td>\n",
       "      <td>67.500000</td>\n",
       "      <td>206.699997</td>\n",
       "      <td>323.119995</td>\n",
       "      <td>118387200</td>\n",
       "      <td>34646000</td>\n",
       "      <td>17058900</td>\n",
       "      <td>5663100</td>\n",
       "    </tr>\n",
       "    <tr>\n",
       "      <th>2020-01-07</th>\n",
       "      <td>72.970078</td>\n",
       "      <td>69.667000</td>\n",
       "      <td>213.059998</td>\n",
       "      <td>330.750000</td>\n",
       "      <td>74.597504</td>\n",
       "      <td>69.667000</td>\n",
       "      <td>213.059998</td>\n",
       "      <td>330.750000</td>\n",
       "      <td>75.224998</td>\n",
       "      <td>70.149498</td>\n",
       "      <td>...</td>\n",
       "      <td>211.750000</td>\n",
       "      <td>330.299988</td>\n",
       "      <td>74.959999</td>\n",
       "      <td>69.897003</td>\n",
       "      <td>212.820007</td>\n",
       "      <td>336.470001</td>\n",
       "      <td>108872000</td>\n",
       "      <td>30054000</td>\n",
       "      <td>14912400</td>\n",
       "      <td>4703200</td>\n",
       "    </tr>\n",
       "    <tr>\n",
       "      <th>2020-01-08</th>\n",
       "      <td>74.143890</td>\n",
       "      <td>70.216003</td>\n",
       "      <td>215.220001</td>\n",
       "      <td>339.260010</td>\n",
       "      <td>75.797501</td>\n",
       "      <td>70.216003</td>\n",
       "      <td>215.220001</td>\n",
       "      <td>339.260010</td>\n",
       "      <td>76.110001</td>\n",
       "      <td>70.579002</td>\n",
       "      <td>...</td>\n",
       "      <td>212.610001</td>\n",
       "      <td>331.049988</td>\n",
       "      <td>74.290001</td>\n",
       "      <td>69.603996</td>\n",
       "      <td>213.000000</td>\n",
       "      <td>331.489990</td>\n",
       "      <td>132079200</td>\n",
       "      <td>30560000</td>\n",
       "      <td>13475000</td>\n",
       "      <td>7104500</td>\n",
       "    </tr>\n",
       "    <tr>\n",
       "      <th>...</th>\n",
       "      <td>...</td>\n",
       "      <td>...</td>\n",
       "      <td>...</td>\n",
       "      <td>...</td>\n",
       "      <td>...</td>\n",
       "      <td>...</td>\n",
       "      <td>...</td>\n",
       "      <td>...</td>\n",
       "      <td>...</td>\n",
       "      <td>...</td>\n",
       "      <td>...</td>\n",
       "      <td>...</td>\n",
       "      <td>...</td>\n",
       "      <td>...</td>\n",
       "      <td>...</td>\n",
       "      <td>...</td>\n",
       "      <td>...</td>\n",
       "      <td>...</td>\n",
       "      <td>...</td>\n",
       "      <td>...</td>\n",
       "      <td>...</td>\n",
       "    </tr>\n",
       "    <tr>\n",
       "      <th>2023-02-14</th>\n",
       "      <td>153.199997</td>\n",
       "      <td>94.949997</td>\n",
       "      <td>179.479996</td>\n",
       "      <td>359.959991</td>\n",
       "      <td>153.199997</td>\n",
       "      <td>94.949997</td>\n",
       "      <td>179.479996</td>\n",
       "      <td>359.959991</td>\n",
       "      <td>153.770004</td>\n",
       "      <td>95.175003</td>\n",
       "      <td>...</td>\n",
       "      <td>175.880005</td>\n",
       "      <td>353.399994</td>\n",
       "      <td>152.119995</td>\n",
       "      <td>94.660004</td>\n",
       "      <td>177.160004</td>\n",
       "      <td>357.549988</td>\n",
       "      <td>61707600</td>\n",
       "      <td>42513100</td>\n",
       "      <td>24034600</td>\n",
       "      <td>4624800</td>\n",
       "    </tr>\n",
       "    <tr>\n",
       "      <th>2023-02-15</th>\n",
       "      <td>155.330002</td>\n",
       "      <td>97.099998</td>\n",
       "      <td>177.160004</td>\n",
       "      <td>361.420013</td>\n",
       "      <td>155.330002</td>\n",
       "      <td>97.099998</td>\n",
       "      <td>177.160004</td>\n",
       "      <td>361.420013</td>\n",
       "      <td>155.500000</td>\n",
       "      <td>97.339996</td>\n",
       "      <td>...</td>\n",
       "      <td>175.330002</td>\n",
       "      <td>354.239990</td>\n",
       "      <td>153.110001</td>\n",
       "      <td>94.739998</td>\n",
       "      <td>176.419998</td>\n",
       "      <td>356.630005</td>\n",
       "      <td>65669300</td>\n",
       "      <td>37029900</td>\n",
       "      <td>25338000</td>\n",
       "      <td>3969900</td>\n",
       "    </tr>\n",
       "    <tr>\n",
       "      <th>2023-02-16</th>\n",
       "      <td>153.710007</td>\n",
       "      <td>95.779999</td>\n",
       "      <td>172.440002</td>\n",
       "      <td>350.709991</td>\n",
       "      <td>153.710007</td>\n",
       "      <td>95.779999</td>\n",
       "      <td>172.440002</td>\n",
       "      <td>350.709991</td>\n",
       "      <td>156.330002</td>\n",
       "      <td>97.879997</td>\n",
       "      <td>...</td>\n",
       "      <td>171.789993</td>\n",
       "      <td>350.309998</td>\n",
       "      <td>153.509995</td>\n",
       "      <td>95.540001</td>\n",
       "      <td>172.750000</td>\n",
       "      <td>355.000000</td>\n",
       "      <td>68167900</td>\n",
       "      <td>35642100</td>\n",
       "      <td>25827500</td>\n",
       "      <td>5215700</td>\n",
       "    </tr>\n",
       "    <tr>\n",
       "      <th>2023-02-17</th>\n",
       "      <td>152.550003</td>\n",
       "      <td>94.589996</td>\n",
       "      <td>172.880005</td>\n",
       "      <td>347.959991</td>\n",
       "      <td>152.550003</td>\n",
       "      <td>94.589996</td>\n",
       "      <td>172.880005</td>\n",
       "      <td>347.959991</td>\n",
       "      <td>153.000000</td>\n",
       "      <td>95.750000</td>\n",
       "      <td>...</td>\n",
       "      <td>169.699997</td>\n",
       "      <td>342.440002</td>\n",
       "      <td>152.350006</td>\n",
       "      <td>95.070000</td>\n",
       "      <td>170.220001</td>\n",
       "      <td>347.910004</td>\n",
       "      <td>59095900</td>\n",
       "      <td>31074100</td>\n",
       "      <td>22191900</td>\n",
       "      <td>5292000</td>\n",
       "    </tr>\n",
       "    <tr>\n",
       "      <th>2023-02-21</th>\n",
       "      <td>148.479996</td>\n",
       "      <td>92.050003</td>\n",
       "      <td>172.080002</td>\n",
       "      <td>337.500000</td>\n",
       "      <td>148.479996</td>\n",
       "      <td>92.050003</td>\n",
       "      <td>172.080002</td>\n",
       "      <td>337.500000</td>\n",
       "      <td>151.300003</td>\n",
       "      <td>93.415001</td>\n",
       "      <td>...</td>\n",
       "      <td>171.880005</td>\n",
       "      <td>336.420013</td>\n",
       "      <td>150.199997</td>\n",
       "      <td>93.239998</td>\n",
       "      <td>174.309998</td>\n",
       "      <td>342.850006</td>\n",
       "      <td>58867200</td>\n",
       "      <td>28367200</td>\n",
       "      <td>34592600</td>\n",
       "      <td>5710300</td>\n",
       "    </tr>\n",
       "  </tbody>\n",
       "</table>\n",
       "<p>790 rows × 24 columns</p>\n",
       "</div>"
      ],
      "text/plain": [
       "             Adj Close                                          Close  \\\n",
       "                  AAPL       GOOG        META        NFLX        AAPL   \n",
       "Date                                                                    \n",
       "2020-01-02   73.449394  68.368500  209.779999  329.809998   75.087502   \n",
       "2020-01-03   72.735298  68.032997  208.669998  325.899994   74.357498   \n",
       "2020-01-06   73.314896  69.710503  212.600006  335.829987   74.949997   \n",
       "2020-01-07   72.970078  69.667000  213.059998  330.750000   74.597504   \n",
       "2020-01-08   74.143890  70.216003  215.220001  339.260010   75.797501   \n",
       "...                ...        ...         ...         ...         ...   \n",
       "2023-02-14  153.199997  94.949997  179.479996  359.959991  153.199997   \n",
       "2023-02-15  155.330002  97.099998  177.160004  361.420013  155.330002   \n",
       "2023-02-16  153.710007  95.779999  172.440002  350.709991  153.710007   \n",
       "2023-02-17  152.550003  94.589996  172.880005  347.959991  152.550003   \n",
       "2023-02-21  148.479996  92.050003  172.080002  337.500000  148.479996   \n",
       "\n",
       "                                                     High             ...  \\\n",
       "                 GOOG        META        NFLX        AAPL       GOOG  ...   \n",
       "Date                                                                  ...   \n",
       "2020-01-02  68.368500  209.779999  329.809998   75.150002  68.406998  ...   \n",
       "2020-01-03  68.032997  208.669998  325.899994   75.144997  68.625000  ...   \n",
       "2020-01-06  69.710503  212.600006  335.829987   74.989998  69.824997  ...   \n",
       "2020-01-07  69.667000  213.059998  330.750000   75.224998  70.149498  ...   \n",
       "2020-01-08  70.216003  215.220001  339.260010   76.110001  70.579002  ...   \n",
       "...               ...         ...         ...         ...        ...  ...   \n",
       "2023-02-14  94.949997  179.479996  359.959991  153.770004  95.175003  ...   \n",
       "2023-02-15  97.099998  177.160004  361.420013  155.500000  97.339996  ...   \n",
       "2023-02-16  95.779999  172.440002  350.709991  156.330002  97.879997  ...   \n",
       "2023-02-17  94.589996  172.880005  347.959991  153.000000  95.750000  ...   \n",
       "2023-02-21  92.050003  172.080002  337.500000  151.300003  93.415001  ...   \n",
       "\n",
       "                   Low                    Open                         \\\n",
       "                  META        NFLX        AAPL       GOOG        META   \n",
       "Date                                                                    \n",
       "2020-01-02  206.270004  324.779999   74.059998  67.077499  206.750000   \n",
       "2020-01-03  206.949997  325.529999   74.287498  67.392998  207.210007   \n",
       "2020-01-06  206.520004  321.200012   73.447502  67.500000  206.699997   \n",
       "2020-01-07  211.750000  330.299988   74.959999  69.897003  212.820007   \n",
       "2020-01-08  212.610001  331.049988   74.290001  69.603996  213.000000   \n",
       "...                ...         ...         ...        ...         ...   \n",
       "2023-02-14  175.880005  353.399994  152.119995  94.660004  177.160004   \n",
       "2023-02-15  175.330002  354.239990  153.110001  94.739998  176.419998   \n",
       "2023-02-16  171.789993  350.309998  153.509995  95.540001  172.750000   \n",
       "2023-02-17  169.699997  342.440002  152.350006  95.070000  170.220001   \n",
       "2023-02-21  171.880005  336.420013  150.199997  93.239998  174.309998   \n",
       "\n",
       "                           Volume                               \n",
       "                  NFLX       AAPL      GOOG      META     NFLX  \n",
       "Date                                                            \n",
       "2020-01-02  326.100006  135480400  28132000  12077100  4485800  \n",
       "2020-01-03  326.779999  146322800  23728000  11188400  3806900  \n",
       "2020-01-06  323.119995  118387200  34646000  17058900  5663100  \n",
       "2020-01-07  336.470001  108872000  30054000  14912400  4703200  \n",
       "2020-01-08  331.489990  132079200  30560000  13475000  7104500  \n",
       "...                ...        ...       ...       ...      ...  \n",
       "2023-02-14  357.549988   61707600  42513100  24034600  4624800  \n",
       "2023-02-15  356.630005   65669300  37029900  25338000  3969900  \n",
       "2023-02-16  355.000000   68167900  35642100  25827500  5215700  \n",
       "2023-02-17  347.910004   59095900  31074100  22191900  5292000  \n",
       "2023-02-21  342.850006   58867200  28367200  34592600  5710300  \n",
       "\n",
       "[790 rows x 24 columns]"
      ]
     },
     "execution_count": 6,
     "metadata": {},
     "output_type": "execute_result"
    }
   ],
   "source": [
    "#loading dataset \n",
    "# Define the tickers and download the data\n",
    "tickers = ['AAPL', 'NFLX', 'META', 'GOOG']\n",
    "data = yf.download(tickers, start='2020-01-01', end='2023-02-22')\n",
    "data"
   ]
  },
  {
   "cell_type": "code",
   "execution_count": 8,
   "id": "9da64cd8",
   "metadata": {},
   "outputs": [
    {
     "name": "stdout",
     "output_type": "stream",
     "text": [
      "[*********************100%***********************]  4 of 4 completed\n",
      "Annual volatility is AAPL     0.334462\n",
      "GOOGL    0.294312\n",
      "META     0.455679\n",
      "NFLX     0.460141\n",
      "dtype: float64\n",
      "Annual returns is AAPL     0.273551\n",
      "GOOGL    0.123304\n",
      "META     0.055067\n",
      "NFLX     0.115963\n",
      "dtype: float64\n",
      "Sharpe ratio: 1.76466040828405\n"
     ]
    },
    {
     "name": "stderr",
     "output_type": "stream",
     "text": [
      "C:\\Users\\HARSEES KAUR\\AppData\\Local\\Temp\\ipykernel_16200\\890229623.py:22: VisibleDeprecationWarning: Creating an ndarray from ragged nested sequences (which is a list-or-tuple of lists-or-tuples-or ndarrays with different lengths or shapes) is deprecated. If you meant to do this, you must specify 'dtype=object' when creating the ndarray.\n",
      "  output = np.array([[annual_volatility ], [annual_returns], [sharpe_ratio]])\n"
     ]
    },
    {
     "data": {
      "image/png": "[encoded data removed]",
      "text/plain": [
       "<Figure size 640x480 with 1 Axes>"
      ]
     },
     "metadata": {},
     "output_type": "display_data"
    },
    {
     "data": {
      "image/png": "[encoded data removed]",
      "text/plain": [
       "<Figure size 640x480 with 1 Axes>"
      ]
     },
     "metadata": {},
     "output_type": "display_data"
    }
   ],
   "source": [
    "# Import required libraries\n",
    "import yfinance as yf\n",
    "import pandas as pd\n",
    "import matplotlib.pyplot as plt\n",
    "import numpy as np\n",
    "\n",
    "# Define the tickers and download the data\n",
    "tickers = ['AAPL', 'NFLX','META', 'GOOGL']\n",
    "data = yf.download(tickers, start='2020-01-01', end='2023-02-22')\n",
    "\n",
    "# Define the function to calculate and plot the fund's performance\n",
    "def fund_performance(data):\n",
    "    # Compute the monthly returns for each stock\n",
    "    returns = data['Adj Close'].resample('M').ffill().pct_change()\n",
    "\n",
    "    mean_return = np.mean(returns.mean())\n",
    "    std_dev = np.std(returns.mean())\n",
    "    sharpe_ratio = mean_return / std_dev\n",
    "    annual_volatility = np.sqrt(12) * returns.std()\n",
    "    annual_returns = returns.mean() * 12\n",
    "\n",
    "    output = np.array([[annual_volatility ], [annual_returns], [sharpe_ratio]])\n",
    "\n",
    "    print(\"Annual volatility is\", annual_volatility)\n",
    "    print(\"Annual returns is\", annual_returns)\n",
    "    print(\"Sharpe ratio:\", sharpe_ratio)\n",
    "\n",
    "    # Plot the time series of adjusted close prices for each stock\n",
    "    for ticker in tickers:\n",
    "        plt.plot(data['Adj Close'][ticker], label=ticker)\n",
    "\n",
    "    plt.legend()\n",
    "    plt.title('Stock Performance')\n",
    "    plt.xlabel('Time')\n",
    "    plt.ylabel('Adjusted Close Price')\n",
    "    plt.show()\n",
    "\n",
    "    # Plot the histogram of monthly returns for each stock\n",
    "    for ticker in tickers:\n",
    "        plt.hist(returns[ticker], bins=30, alpha=0.5, label=ticker)\n",
    "\n",
    "    plt.legend(loc='upper right')\n",
    "    plt.title('Monthly Returns Histogram')\n",
    "    plt.xlabel('Monthly Returns')\n",
    "    plt.ylabel('Frequency')\n",
    "    plt.show()\n",
    "\n",
    "# Call the function to calculate and plot the fund's performance\n",
    "fund_performance(data)\n"
   ]
  },
  {
   "cell_type": "markdown",
   "id": "d6019418",
   "metadata": {},
   "source": [
    "## FUNCTION 2 "
   ]
  },
  {
   "cell_type": "code",
   "execution_count": null,
   "id": "2d2ab7ea",
   "metadata": {
    "scrolled": true
   },
   "outputs": [],
   "source": [
    "#to collect online data"
   ]
  },
  {
   "cell_type": "code",
   "execution_count": null,
   "id": "e1683c1e",
   "metadata": {},
   "outputs": [],
   "source": [
    "pip install yfinance"
   ]
  },
  {
   "cell_type": "code",
   "execution_count": null,
   "id": "9778a6e2",
   "metadata": {},
   "outputs": [],
   "source": [
    "# using these packages to get a combined dataset of the 4 stocks otherwise the joining/grouping of 4 datasets would be very complicated by just using pandas  \n",
    "from pandas_datareader import data as pdr\n",
    "import yfinance as yfin\n",
    "yfin.pdr_override()\n",
    "import datetime as dt "
   ]
  },
  {
   "cell_type": "code",
   "execution_count": null,
   "id": "2828f8cd",
   "metadata": {},
   "outputs": [],
   "source": [
    "#loading dataset of multiplr stocks \n",
    "tickers=['AAPL', 'NFLX', 'META', 'TSLA']\n",
    "start=dt.datetime(2022,1,1)\n",
    "end=dt.datetime(2023,2,1)"
   ]
  },
  {
   "cell_type": "code",
   "execution_count": null,
   "id": "0320fb90",
   "metadata": {},
   "outputs": [],
   "source": [
    "#loading the dataset \n",
    "data=pdr.get_data_yahoo(tickers,start,end)"
   ]
  },
  {
   "cell_type": "code",
   "execution_count": null,
   "id": "d8d58bdb",
   "metadata": {},
   "outputs": [],
   "source": [
    "data"
   ]
  },
  {
   "cell_type": "code",
   "execution_count": null,
   "id": "a73896d6",
   "metadata": {},
   "outputs": [],
   "source": [
    "data.dtypes"
   ]
  },
  {
   "cell_type": "code",
   "execution_count": null,
   "id": "be15dcea",
   "metadata": {},
   "outputs": [],
   "source": [
    "data.to_numpy()"
   ]
  },
  {
   "cell_type": "code",
   "execution_count": null,
   "id": "4b9cac79",
   "metadata": {},
   "outputs": [],
   "source": [
    "type(data)"
   ]
  },
  {
   "cell_type": "code",
   "execution_count": null,
   "id": "f645022b",
   "metadata": {},
   "outputs": [],
   "source": [
    "arr = data.to_numpy()"
   ]
  },
  {
   "cell_type": "code",
   "execution_count": null,
   "id": "30494a4e",
   "metadata": {},
   "outputs": [],
   "source": [
    "arr.shape"
   ]
  },
  {
   "cell_type": "code",
   "execution_count": null,
   "id": "ed6ac610",
   "metadata": {},
   "outputs": [],
   "source": [
    "#selecting the adjusted closing prices \n",
    "adjusted_close = data['Adj Close']"
   ]
  },
  {
   "cell_type": "code",
   "execution_count": null,
   "id": "a7b5cfc4",
   "metadata": {},
   "outputs": [],
   "source": [
    "#calculating daily returns for each stock\n",
    "daily_returns = adjusted_close.pct_change()\n",
    "daily_returns"
   ]
  },
  {
   "cell_type": "code",
   "execution_count": null,
   "id": "2924b411",
   "metadata": {},
   "outputs": [],
   "source": [
    "num_assets = 4"
   ]
  },
  {
   "cell_type": "code",
   "execution_count": null,
   "id": "15b70fde",
   "metadata": {},
   "outputs": [],
   "source": [
    "# sum of weights must equal 1. \n",
    "# (a / a+b) + (b / a+b) = 1 \n",
    "# applying this logic above\n",
    "\n",
    "weights = np.random.random(num_assets)\n",
    "weights = weights / sum(weights)\n",
    "weights"
   ]
  },
  {
   "cell_type": "code",
   "execution_count": null,
   "id": "408c3612",
   "metadata": {
    "scrolled": true
   },
   "outputs": [],
   "source": [
    "# Calculating vcv matrix\n",
    "vcv_matrix = daily_returns.cov() * daily_returns.shape[0]\n",
    "vcv_matrix"
   ]
  },
  {
   "cell_type": "code",
   "execution_count": null,
   "id": "623e9756",
   "metadata": {},
   "outputs": [],
   "source": [
    "# Calculating the expected returns and store them as an N*1 numpy array\n",
    "expected_returns = daily_returns.mean().values.reshape(-1,1)\n",
    "expected_returns"
   ]
  },
  {
   "cell_type": "code",
   "execution_count": null,
   "id": "600af356",
   "metadata": {
    "scrolled": true
   },
   "outputs": [],
   "source": [
    "# Defining function takes the weights, expected return of each asset in a portfolio and outputs the expected return and risk of the portfolio \n",
    "def expected_performance(weights, expected_returns, vcv_matrix):\n",
    "    # expected returns of the portfolio\n",
    "    portfolio_return = np.sum(weights * expected_returns)\n",
    "\n",
    "    # portfolio risk - standard deviation\n",
    "    portfolio_risk = np.sqrt(np.dot(weights.T, np.dot(vcv_matrix, weights)))\n",
    "\n",
    "    # For getting output - 2x1 NUMPY array with the ER and risk of the portfolio\n",
    "    return np.array([portfolio_return, portfolio_risk]).reshape(2, 1)\n",
    "\n",
    "# Calling the function \n",
    "expected_performance = expected_performance(weights, expected_returns, vcv_matrix)\n",
    "\n",
    "print(\"Portfolio's expected return is: {:.2%}\".format(expected_performance[0, 0]))\n",
    "print(\"Portfolio's risk is: {:.2%}\".format(expected_performance[1, 0]))\n"
   ]
  },
  {
   "cell_type": "code",
   "execution_count": null,
   "id": "038ae2a9",
   "metadata": {},
   "outputs": [],
   "source": [
    "# Saving the output array as a csv file with the name calculated _perfomance.csv\n",
    "# Convert the array to a pandas DataFrame\n",
    "output_df = pd.DataFrame(expected_performance)\n",
    "\n",
    "# Save the DataFrame as a CSV file\n",
    "output_df.to_csv(\"calculated_performance.csv\", index=False)"
   ]
  },
  {
   "cell_type": "markdown",
   "id": "47a03473",
   "metadata": {},
   "source": [
    "### Portfolio's expected Return\n",
    "Here, we multiply the weights of the assets in the portfolio (weights) by their expected returns (expected_returns), and then summing the resulting values which gives the *expected return* of the portfolio. "
   ]
  },
  {
   "cell_type": "markdown",
   "id": "8b6cc819",
   "metadata": {},
   "source": [
    "### Portfolio's Risk \n",
    "Calculates the variance of a portfolio i.e. the risk of the portfolio, as it indicates how much the actual returns of the portfolio are likely to deviate from the expected return. \n",
    "The formula here formula takes two inputs: vcv_matrix & weights.\n",
    "The np.dot() function is used for matrix multiplication."
   ]
  },
  {
   "cell_type": "markdown",
   "id": "67f6a11d",
   "metadata": {},
   "source": [
    "## FUNCTION 3 "
   ]
  },
  {
   "cell_type": "code",
   "execution_count": null,
   "id": "2ac4b2b5",
   "metadata": {},
   "outputs": [],
   "source": [
    "#selecting the adjusted closing prices \n",
    "adjusted_close = data['Adj Close']"
   ]
  },
  {
   "cell_type": "code",
   "execution_count": null,
   "id": "46e68b88",
   "metadata": {},
   "outputs": [],
   "source": [
    "#calculating daily returns for each stock\n",
    "daily_returns = adjusted_close.pct_change()\n",
    "daily_returns.head()"
   ]
  },
  {
   "cell_type": "code",
   "execution_count": null,
   "id": "6fc25e3e",
   "metadata": {},
   "outputs": [],
   "source": [
    "num_assets = len(tickers)\n",
    "num_assets"
   ]
  },
  {
   "cell_type": "code",
   "execution_count": null,
   "id": "2c87422d",
   "metadata": {},
   "outputs": [],
   "source": [
    "weights = np.random.random(num_assets)\n",
    "weights = weights / sum(weights)\n",
    "weights"
   ]
  },
  {
   "cell_type": "code",
   "execution_count": null,
   "id": "9aafc058",
   "metadata": {},
   "outputs": [],
   "source": [
    "sum(weights)"
   ]
  },
  {
   "cell_type": "code",
   "execution_count": null,
   "id": "0e9dc94d",
   "metadata": {},
   "outputs": [],
   "source": [
    "returns_expected = daily_returns.mean().values.reshape(-1,1)\n",
    "returns_expected"
   ]
  },
  {
   "cell_type": "code",
   "execution_count": null,
   "id": "b68f51ee",
   "metadata": {},
   "outputs": [],
   "source": [
    "# Store the expected returns in percentage format as a 4x1 NumPy array\n",
    "returns_expected = np.array(returns_expected)\n",
    "returns_expected"
   ]
  },
  {
   "cell_type": "code",
   "execution_count": null,
   "id": "7d58ae96",
   "metadata": {},
   "outputs": [],
   "source": [
    "vcv_matrix = daily_returns.cov().values"
   ]
  },
  {
   "cell_type": "code",
   "execution_count": null,
   "id": "c50697e5",
   "metadata": {},
   "outputs": [],
   "source": [
    "vcv_matrix"
   ]
  },
  {
   "cell_type": "code",
   "execution_count": null,
   "id": "17f6fce1",
   "metadata": {},
   "outputs": [],
   "source": [
    "from scipy.optimize import minimize"
   ]
  },
  {
   "cell_type": "code",
   "execution_count": null,
   "id": "028936e1",
   "metadata": {},
   "outputs": [],
   "source": [
    "def draw_efficient_frontier(expected_returns, vcv_matrix):\n",
    "    # Define the objective function for maximizing the portfolio return\n",
    "    def objective_function(weights, expected_returns):\n",
    "        return -np.dot(expected_returns, weights)\n",
    "\n",
    "    # Define the equality constraint for the weights to sum to 1\n",
    "    def equality_constraint(weights):\n",
    "        return np.sum(weights) - 1\n",
    "\n",
    "    # Define the range of target returns for the efficient frontier\n",
    "    n = len(expected_returns)\n",
    "    target_returns = np.linspace(min(expected_returns), max(expected_returns), num=100)\n",
    "\n",
    "    # Calculate the efficient frontier\n",
    "    efficient_frontier = []\n",
    "    for target_return in target_returns:\n",
    "        # Define the objective function for minimizing the portfolio risk subject to a target return\n",
    "        def objective_function_risk(weights, vcv_matrix, target_return):\n",
    "            return np.dot(weights, np.dot(vcv_matrix, weights)) - target_return ** 2\n",
    "\n",
    "        # Define the optimization problem for minimizing the portfolio risk subject to a target return\n",
    "        initial_weights = np.full(n, 1/n)\n",
    "        weight_bounds = [(0, 1)] * n\n",
    "        weight_constraints = [{'type': 'eq', 'fun': equality_constraint}]\n",
    "        optimization_args = (vcv_matrix, target_return)\n",
    "        optimization_result = minimize(objective_function_risk, initial_weights, args=optimization_args, bounds=weight_bounds, constraints=weight_constraints)\n",
    "\n",
    "        # Add the portfolio to the efficient frontier\n",
    "        efficient_frontier.append([target_return, -optimization_result.fun])\n",
    "\n",
    "    # Convert the efficient frontier to a numpy array\n",
    "    efficient_frontier = np.array(efficient_frontier)\n",
    "\n",
    "    # Plot the efficient frontier\n",
    "    plt.plot(efficient_frontier[:, 1], efficient_frontier[:, 0], 'k-', linewidth=2)\n",
    "    plt.title('Efficient Frontier')\n",
    "    plt.xlabel('Risk')\n",
    "    plt.ylabel('Expected Return')\n",
    "    plt.show()\n",
    "\n",
    "    return efficient_frontier\n",
    "\n",
    "draw_efficient_frontier(expected_returns, vcv_matrix)"
   ]
  },
  {
   "cell_type": "code",
   "execution_count": null,
   "id": "e6f260b3",
   "metadata": {},
   "outputs": [],
   "source": []
  }
 ],
 "metadata": {
  "kernelspec": {
   "display_name": "Python 3 (ipykernel)",
   "language": "python",
   "name": "python3"
  },
  "language_info": {
   "codemirror_mode": {
    "name": "ipython",
    "version": 3
   },
   "file_extension": ".py",
   "mimetype": "text/x-python",
   "name": "python",
   "nbconvert_exporter": "python",
   "pygments_lexer": "ipython3",
   "version": "3.9.13"
  }
 },
 "nbformat": 4,
 "nbformat_minor": 5
}
